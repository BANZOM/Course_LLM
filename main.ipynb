{
 "cells": [
  {
   "cell_type": "code",
   "execution_count": 10,
   "metadata": {},
   "outputs": [
    {
     "name": "stdout",
     "output_type": "stream",
     "text": [
      "628096\n"
     ]
    }
   ],
   "source": [
    "# loading the data text\n",
    "with open(\"data/Philosophy by Bertrand Russell.txt\", 'r', encoding=\"utf-8\") as f:\n",
    "    text = f.read();\n",
    "\n",
    "print(len(text))"
   ]
  },
  {
   "cell_type": "code",
   "execution_count": 11,
   "metadata": {},
   "outputs": [
    {
     "name": "stdout",
     "output_type": "stream",
     "text": [
      "['\\n', ' ', '!', '#', '$', '&', '(', ')', '*', '+', ',', '-', '.', '/', '0', '1', '2', '3', '4', '5', '6', '7', '8', '9', ':', ';', '=', '?', 'A', 'B', 'C', 'D', 'E', 'F', 'G', 'H', 'I', 'J', 'K', 'L', 'M', 'N', 'O', 'P', 'Q', 'R', 'S', 'T', 'U', 'V', 'W', 'X', 'Y', 'Z', '[', ']', '_', 'a', 'b', 'c', 'd', 'e', 'f', 'g', 'h', 'i', 'j', 'k', 'l', 'm', 'n', 'o', 'p', 'q', 'r', 's', 't', 'u', 'v', 'w', 'x', 'y', 'z', '\\xa0', '²', '·', 'Æ', '×', 'æ', 'è', 'ö', 'œ', 'α', 'β', 'γ', '–', '‘', '’', '“', '”', '′', '\\ufeff']\n"
     ]
    }
   ],
   "source": [
    "# tokenize\n",
    "\n",
    "chars = sorted(set(text))\n",
    "print(chars)"
   ]
  },
  {
   "cell_type": "code",
   "execution_count": 12,
   "metadata": {},
   "outputs": [
    {
     "name": "stdout",
     "output_type": "stream",
     "text": [
      "[64, 61, 68, 68, 71]\n",
      "hello\n"
     ]
    }
   ],
   "source": [
    "#encode\n",
    "\n",
    "string_to_int = {char: index for index, char in enumerate(chars)}\n",
    "int_to_string = {index: char for index, char in enumerate(chars)}\n",
    "\n",
    "encode = lambda s: [string_to_int[c] for c in s]\n",
    "decode = lambda l: \"\".join(int_to_string[i] for i in l)\n",
    "\n",
    "print(encode(\"hello\"))\n",
    "print(decode(encode(\"hello\")))"
   ]
  },
  {
   "cell_type": "code",
   "execution_count": 13,
   "metadata": {},
   "outputs": [
    {
     "name": "stdout",
     "output_type": "stream",
     "text": [
      "tensor([101,  47,  64,  61,   1,  43,  74,  71,  66,  61])\n"
     ]
    }
   ],
   "source": [
    "import torch\n",
    "\n",
    "# creating tensors of text\n",
    "data = torch.tensor(encode(text), dtype=torch.long)\n",
    "print(data[:10])"
   ]
  },
  {
   "cell_type": "code",
   "execution_count": 14,
   "metadata": {},
   "outputs": [
    {
     "name": "stdout",
     "output_type": "stream",
     "text": [
      "502476 125620\n"
     ]
    }
   ],
   "source": [
    "# splitting train and validation\n",
    "n = int(len(data) * 0.8)\n",
    "train_data = data[:n]\n",
    "val_data = data[n:]\n",
    "\n",
    "print(n, len(data)-n)"
   ]
  },
  {
   "cell_type": "code",
   "execution_count": 15,
   "metadata": {},
   "outputs": [
    {
     "name": "stdout",
     "output_type": "stream",
     "text": [
      "cuda\n"
     ]
    }
   ],
   "source": [
    "device = 'cuda' if torch.cuda.is_available() else 'cpu'\n",
    "print(device)"
   ]
  },
  {
   "cell_type": "markdown",
   "metadata": {},
   "source": [
    "# Comparison with torch and numpy"
   ]
  },
  {
   "cell_type": "code",
   "execution_count": 18,
   "metadata": {},
   "outputs": [],
   "source": [
    "import numpy as np\n",
    "import time"
   ]
  },
  {
   "cell_type": "code",
   "execution_count": 22,
   "metadata": {},
   "outputs": [
    {
     "name": "stdout",
     "output_type": "stream",
     "text": [
      "eslapsed time for torch: 0.04200673\n",
      "eslapsed time for numpy: 1.04733181\n"
     ]
    }
   ],
   "source": [
    "torch_rand1 = torch.rand(10000,10000).to(device)\n",
    "torch_rand2 = torch.rand(10000,10000).to(device)\n",
    "np.rand1 = torch.rand(10000,10000)\n",
    "np.rand2 = torch.rand(10000,10000)\n",
    "\n",
    "start_time = time.time()\n",
    "\n",
    "# multiply\n",
    "result = torch_rand1 @ torch_rand2\n",
    "\n",
    "elapsed_time = time.time() - start_time\n",
    "print(f\"eslapsed time for torch: {elapsed_time:.8f}\")\n",
    "\n",
    "start_time = time.time()\n",
    "\n",
    "# multiply\n",
    "result = np.rand1 @ np.rand2\n",
    "\n",
    "elapsed_time = time.time() - start_time\n",
    "print(f\"eslapsed time for numpy: {elapsed_time:.8f}\")"
   ]
  },
  {
   "cell_type": "code",
   "execution_count": 23,
   "metadata": {},
   "outputs": [
    {
     "name": "stdout",
     "output_type": "stream",
     "text": [
      "eslapsed time for torch: 0.05235982\n",
      "eslapsed time for numpy: 0.10469270\n"
     ]
    }
   ],
   "source": [
    "torch_rand1 = torch.rand(100,100,100,100).to(device)\n",
    "torch_rand2 = torch.rand(100,100,100,100).to(device)\n",
    "np.rand1 = torch.rand(100,100,100,100)\n",
    "np.rand2 = torch.rand(100,100,100,100)\n",
    "\n",
    "start_time = time.time()\n",
    "\n",
    "# multiply\n",
    "result = torch_rand1 @ torch_rand2\n",
    "\n",
    "elapsed_time = time.time() - start_time\n",
    "print(f\"eslapsed time for torch: {elapsed_time:.8f}\")\n",
    "\n",
    "start_time = time.time()\n",
    "\n",
    "# multiply\n",
    "result = np.rand1 @ np.rand2\n",
    "\n",
    "elapsed_time = time.time() - start_time\n",
    "print(f\"eslapsed time for numpy: {elapsed_time:.8f}\")"
   ]
  },
  {
   "cell_type": "code",
   "execution_count": null,
   "metadata": {},
   "outputs": [],
   "source": []
  }
 ],
 "metadata": {
  "kernelspec": {
   "display_name": "venv",
   "language": "python",
   "name": "python3"
  },
  "language_info": {
   "codemirror_mode": {
    "name": "ipython",
    "version": 3
   },
   "file_extension": ".py",
   "mimetype": "text/x-python",
   "name": "python",
   "nbconvert_exporter": "python",
   "pygments_lexer": "ipython3",
   "version": "3.9.18"
  }
 },
 "nbformat": 4,
 "nbformat_minor": 2
}
